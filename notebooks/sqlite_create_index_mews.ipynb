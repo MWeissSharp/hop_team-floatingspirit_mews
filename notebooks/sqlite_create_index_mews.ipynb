{
 "cells": [
  {
   "cell_type": "markdown",
   "id": "155062e8",
   "metadata": {},
   "source": [
    "## Import libraries"
   ]
  },
  {
   "cell_type": "code",
   "execution_count": null,
   "id": "9d4ff94e",
   "metadata": {},
   "outputs": [],
   "source": [
    "import sqlite3\n",
    "import pandas as pd\n",
    "import numpy as np"
   ]
  },
  {
   "cell_type": "markdown",
   "id": "b872ad20",
   "metadata": {},
   "source": [
    "## Create indexes"
   ]
  },
  {
   "cell_type": "code",
   "execution_count": null,
   "id": "cf38750f",
   "metadata": {
    "scrolled": true
   },
   "outputs": [],
   "source": [
    "db = sqlite3.connect('../data/hop_db.sqlite')\n",
    "\n",
    "# hop table\n",
    "db.execute('CREATE INDEX from_npi ON hop(from_npi)')\n",
    "db.execute('CREATE INDEX to_npi ON hop(to_npi)')\n",
    "db.execute('CREATE INDEX transaction_count ON hop(transaction_count)')\n",
    "db.execute('CREATE INDEX average_day_wait ON hop(average_day_wait)')\n",
    "\n",
    "db.close()"
   ]
  },
  {
   "cell_type": "code",
   "execution_count": null,
   "id": "a78d058e",
   "metadata": {},
   "outputs": [],
   "source": [
    "db = sqlite3.connect('../data/hop_db.sqlite')\n",
    "\n",
    "# npidata table\n",
    "db.execute('CREATE INDEX taxonomy_code ON npidata(taxonomy_code)')\n",
    "db.execute('CREATE INDEX npi ON npidata(npi)')\n",
    "db.execute('CREATE INDEX entity_type_code ON npidata(entity_type_code)')\n",
    "db.execute('CREATE INDEX organization_name ON npidata(organization_name)')\n",
    "db.execute('CREATE INDEX location_address_city_name ON npidata(location_address_city_name)')\n",
    "db.execute('CREATE INDEX location_address_state_name ON npidata(location_address_state_name)')\n",
    "db.execute('CREATE INDEX location_address_postal_code ON npidata(location_address_postal_code)')\n",
    "\n",
    "db.close()"
   ]
  },
  {
   "cell_type": "code",
   "execution_count": null,
   "id": "a0f0851f",
   "metadata": {},
   "outputs": [],
   "source": [
    "db = sqlite3.connect('../data/hop_db.sqlite')\n",
    "\n",
    "# taxonomy table\n",
    "db.execute('CREATE INDEX t_code ON taxonomy(taxonomy_code)')\n",
    "db.execute('CREATE INDEX display_name ON taxonomy(display_name)')\n",
    "db.execute('CREATE INDEX classification ON taxonomy(classification)')\n",
    "\n",
    "db.close()"
   ]
  },
  {
   "cell_type": "code",
   "execution_count": null,
   "id": "8244dafa",
   "metadata": {},
   "outputs": [],
   "source": [
    "db = sqlite3.connect('../data/hop_db.sqlite')\n",
    "\n",
    "#zip_cbsa table\n",
    "db.execute('CREATE INDEX zip ON zip_to_cbsa(zip)')\n",
    "db.execute('CREATE INDEX city ON zip_to_cbsa(city)')\n",
    "db.execute('CREATE INDEX state ON zip_to_cbsa(state)')\n",
    "db.execute('CREATE INDEX cbsa ON zip_to_cbsa(cbsa)')\n",
    "\n",
    "db.close()"
   ]
  },
  {
   "cell_type": "code",
   "execution_count": null,
   "id": "414cfcaa",
   "metadata": {},
   "outputs": [],
   "source": []
  }
 ],
 "metadata": {
  "kernelspec": {
   "display_name": "Python 3 (ipykernel)",
   "language": "python",
   "name": "python3"
  },
  "language_info": {
   "codemirror_mode": {
    "name": "ipython",
    "version": 3
   },
   "file_extension": ".py",
   "mimetype": "text/x-python",
   "name": "python",
   "nbconvert_exporter": "python",
   "pygments_lexer": "ipython3",
   "version": "3.9.12"
  }
 },
 "nbformat": 4,
 "nbformat_minor": 5
}
