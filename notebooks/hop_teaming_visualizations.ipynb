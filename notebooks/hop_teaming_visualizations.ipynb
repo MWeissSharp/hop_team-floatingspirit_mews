{
 "cells": [
  {
   "cell_type": "code",
   "execution_count": null,
   "id": "eb56062b",
   "metadata": {},
   "outputs": [],
   "source": [
    "import pandas as pd\n",
    "import numpy as np\n",
    "import pickle\n",
    "\n",
    "import matplotlib.pyplot as plt\n",
    "import seaborn as sns\n",
    "\n",
    "import plotly.express as px\n",
    "from ipywidgets import interact, interactive, fixed, interact_manual\n",
    "import ipywidgets as widgets\n",
    "import plotly.graph_objects as go"
   ]
  },
  {
   "cell_type": "code",
   "execution_count": null,
   "id": "48912c8c",
   "metadata": {},
   "outputs": [],
   "source": [
    "with open('../data/nash_hosp_referrers.pickle', 'rb') as file:\n",
    "    nash_hosp_referrers = pickle.load(file)"
   ]
  },
  {
   "cell_type": "code",
   "execution_count": null,
   "id": "a12a0db4",
   "metadata": {},
   "outputs": [],
   "source": [
    "with open('../data/nash_hosp_referrers_b.pickle', 'rb') as file:\n",
    "    nash_hosp_referrers_b = pickle.load(file)"
   ]
  },
  {
   "cell_type": "code",
   "execution_count": null,
   "id": "816c94d1",
   "metadata": {
    "scrolled": true
   },
   "outputs": [],
   "source": [
    "nash_hosp_referrers_b"
   ]
  },
  {
   "cell_type": "code",
   "execution_count": null,
   "id": "35791760",
   "metadata": {},
   "outputs": [],
   "source": [
    "@interact(specialty = nash_hosp_referrers_b['specialty'].unique())\n",
    "def interactive_plot(specialty):\n",
    "    \n",
    "    df = (nash_hosp_referrers_b\n",
    "          .loc[(~nash_hosp_referrers_b['hospital'].str.contains('Vanderbilt'))\n",
    "               &\n",
    "               (nash_hosp_referrers_b['specialty'] == specialty)]\n",
    "          .groupby(['from_npi', 'location_address_state_name', 'location_address_city_name', 'specialty'])\n",
    "          ['transaction_count'].sum()\n",
    "          .to_frame()\n",
    "          .reset_index())\n",
    "    \n",
    "    fig = px.treemap(df.loc[df['transaction_count'] > 100], \n",
    "                     path=[px.Constant(\"all\"), 'location_address_state_name', 'specialty', 'from_npi'], \n",
    "                     values='transaction_count',\n",
    "                     labels = {'location_address_state_name' : 'State',\n",
    "                                  #'id' : False,\n",
    "                                  'transaction_count' : 'Total non-Vanderbilt referrals'})\n",
    "\n",
    "    fig.show()"
   ]
  },
  {
   "cell_type": "code",
   "execution_count": null,
   "id": "4ce5d918",
   "metadata": {},
   "outputs": [],
   "source": [
    "@interact(specialty = np.sort(nash_hosp_referrers_b['specialty'].unique()))\n",
    "def interactive_plot(specialty):\n",
    "    \n",
    "    df = (nash_hosp_referrers_b\n",
    "          .loc[(~nash_hosp_referrers_b['hospital'].str.contains('Vanderbilt'))\n",
    "               &\n",
    "               (nash_hosp_referrers_b['specialty'] == specialty)]\n",
    "          .groupby(['from_npi', \n",
    "                    'location_address_state_name', \n",
    "                    'location_address_city_name', \n",
    "                    'specialty',\n",
    "                    'sub_specialty'])\n",
    "          ['transaction_count'].sum()\n",
    "          .to_frame()\n",
    "          .reset_index()\n",
    "          .sort_values('transaction_count', ascending = False))\n",
    "    \n",
    "    fig = go.Figure(data=[go.Table(\n",
    "        header=dict(values= ['Provider NPI', 'Specialty', 'Sub-Specialty', 'State', 'Non-Vandy Referrals'],\n",
    "                    fill_color='#f4c0c5',\n",
    "                    align='left'),\n",
    "        cells=dict(values=[df.from_npi, \n",
    "                           df.specialty,\n",
    "                           df.sub_specialty, \n",
    "                           df.location_address_state_name,\n",
    "                           df.transaction_count],\n",
    "                   fill_color='#fdf2f3',\n",
    "                   align='left'))\n",
    "    ])\n",
    "\n",
    "    fig.show()"
   ]
  },
  {
   "cell_type": "code",
   "execution_count": null,
   "id": "3a259325",
   "metadata": {},
   "outputs": [],
   "source": []
  }
 ],
 "metadata": {
  "kernelspec": {
   "display_name": "Python 3 (ipykernel)",
   "language": "python",
   "name": "python3"
  },
  "language_info": {
   "codemirror_mode": {
    "name": "ipython",
    "version": 3
   },
   "file_extension": ".py",
   "mimetype": "text/x-python",
   "name": "python",
   "nbconvert_exporter": "python",
   "pygments_lexer": "ipython3",
   "version": "3.9.12"
  }
 },
 "nbformat": 4,
 "nbformat_minor": 5
}
