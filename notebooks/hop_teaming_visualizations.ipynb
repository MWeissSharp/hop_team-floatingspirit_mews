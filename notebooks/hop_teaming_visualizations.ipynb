{
 "cells": [
  {
   "cell_type": "code",
   "execution_count": null,
   "id": "44469c24",
   "metadata": {},
   "outputs": [],
   "source": [
    "import pandas as pd\n",
    "import numpy as np\n",
    "import pickle\n",
    "\n",
    "import matplotlib.pyplot as plt\n",
    "import seaborn as sns\n",
    "\n",
    "import plotly.express as px\n",
    "from ipywidgets import interact, interactive, fixed, interact_manual\n",
    "import ipywidgets as widgets\n",
    "import plotly.graph_objects as go"
   ]
  },
  {
   "cell_type": "code",
   "execution_count": null,
   "id": "d407fe19",
   "metadata": {},
   "outputs": [],
   "source": [
    "with open('../data/nash_hosp_referrers.pickle', 'rb') as file:\n",
    "    nash_hosp_referrers = pickle.load(file)"
   ]
  },
  {
   "cell_type": "code",
   "execution_count": null,
   "id": "de0d7cd2",
   "metadata": {},
   "outputs": [],
   "source": [
    "with open('../data/nash_hosp_referrers_b.pickle', 'rb') as file:\n",
    "    nash_hosp_referrers_b = pickle.load(file)"
   ]
  },
  {
   "cell_type": "code",
   "execution_count": null,
   "id": "79b361e9",
   "metadata": {
    "scrolled": true
   },
   "outputs": [],
   "source": [
    "# Combine different names associated with the same broader hospital system, shorten names for visuals\n",
    "nash_hosp_referrers['hospital'] = (\n",
    "    nash_hosp_referrers['hospital']\n",
    "    .str.replace('SETON CORPORATION', 'SAINT THOMAS')\n",
    "    .str.replace('SAINT THOMAS WEST HOSPITAL', 'SAINT THOMAS')\n",
    "    .str.replace('HCA HEALTH SERVICES OF TENNESSEE, INC.', 'HCA/TRISTAR')\n",
    "    .str.replace('HTI MEMORIAL HOSPITAL CORPORATION', 'HCA/TRISTAR')\n",
    "    .str.replace('NASHVILLE GENERAL HOSPITAL', 'NASHVILLE GENERAL')\n",
    "    .str.replace('VANDERBILT UNIVERSITY MEDICAL CENTER', 'VUMC')\n",
    ")"
   ]
  },
  {
   "cell_type": "code",
   "execution_count": null,
   "id": "f6410c7d",
   "metadata": {},
   "outputs": [],
   "source": [
    "nash_hosp_referrers_b['hospital'] = (\n",
    "    nash_hosp_referrers_b['hospital']\n",
    "    .str.replace('SETON CORPORATION', 'SAINT THOMAS')\n",
    "    .str.replace('SAINT THOMAS WEST HOSPITAL', 'SAINT THOMAS')\n",
    "    .str.replace('HCA HEALTH SERVICES OF TENNESSEE, INC.', 'HCA/TRISTAR')\n",
    "    .str.replace('HTI MEMORIAL HOSPITAL CORPORATION', 'HCA/TRISTAR')\n",
    "    .str.replace('NASHVILLE GENERAL HOSPITAL', 'NASHVILLE GENERAL')\n",
    "    .str.replace('VANDERBILT UNIVERSITY MEDICAL CENTER', 'VUMC')\n",
    ")"
   ]
  },
  {
   "cell_type": "code",
   "execution_count": null,
   "id": "80938c5a",
   "metadata": {},
   "outputs": [],
   "source": [
    "#add a column that calculates the total wait in days for each providers' referrals\n",
    "nash_hosp_referrers_b['total_wait'] = (nash_hosp_referrers_b['transaction_count'] \n",
    "                                       * \n",
    "                                       nash_hosp_referrers_b['average_day_wait'])\n",
    "\n",
    "nash_hosp_referrers_b"
   ]
  },
  {
   "cell_type": "code",
   "execution_count": null,
   "id": "11a12368",
   "metadata": {},
   "outputs": [],
   "source": [
    "# Create a table that aggregates referral information by hospital\n",
    "hosp_summary_values_b = (\n",
    "    nash_hosp_referrers_b\n",
    "    .groupby('hospital')\n",
    "    .agg(\n",
    "        total_providers = ('from_npi', 'count'),\n",
    "        total_transactions = ('transaction_count', 'sum'),\n",
    "        total_patients = ('patient_count', 'sum'),\n",
    "        total_states = ('location_address_state_name', 'nunique'),\n",
    "        total_specialties = ('specialty', 'nunique'),\n",
    "        total_wait = ('total_wait', 'sum')\n",
    "    )\n",
    "    .reset_index()\n",
    ")\n",
    "\n",
    "hosp_summary_values_b['avg_day_wait'] = round(hosp_summary_values_b['total_wait'] \n",
    "                                              / \n",
    "                                              hosp_summary_values_b['total_transactions'],\n",
    "                                              2)\n",
    "\n",
    "hosp_summary_values_b"
   ]
  },
  {
   "cell_type": "code",
   "execution_count": null,
   "id": "ae31e8a9",
   "metadata": {
    "scrolled": false
   },
   "outputs": [],
   "source": [
    "# Plot of total referral transactions by hospital\n",
    "df = hosp_summary_values_b.sort_values('total_transactions')\n",
    "\n",
    "fig = px.bar(df,\n",
    "             x='hospital', \n",
    "             y='total_transactions',\n",
    "             color='hospital',\n",
    "             labels = {'total_transactions' : 'Total Referral Transactions',\n",
    "                       'hospital' : 'Hospital'},\n",
    "             color_discrete_map={\n",
    "                 \"HCA/TRISTAR\":\"#AA1E2D\",\n",
    "                 \"NASHVILLE GENERAL\":\"#FDE74C\",\n",
    "                 \"SAINT THOMAS\":\"#8FB8DE\",\n",
    "                 \"VUMC\":\"#9A94BC\"\n",
    "             },\n",
    "             template=\"simple_white\")\n",
    "\n",
    "fig.update_xaxes(title=None,\n",
    "                 tickangle = 45)\n",
    "\n",
    "fig.update_layout(showlegend=False)\n",
    "\n",
    "fig.update_layout(title_text=\"Referral Transactions by Hospital\",\n",
    "                    title_xanchor=\"auto\",\n",
    "                    title_font_size=18,\n",
    "                    yaxis={'categoryorder':'category descending'}\n",
    "                   )\n",
    "\n",
    "fig.show()"
   ]
  },
  {
   "cell_type": "code",
   "execution_count": null,
   "id": "379ed15e",
   "metadata": {},
   "outputs": [],
   "source": [
    "#fig.write_html(\"../data/visuals/hosp_transactions.html\")"
   ]
  },
  {
   "cell_type": "code",
   "execution_count": null,
   "id": "b62124c7",
   "metadata": {
    "scrolled": true
   },
   "outputs": [],
   "source": [
    "# Plot of total referring providers by hospital\n",
    "df = hosp_summary_values_b.sort_values('total_providers')\n",
    "\n",
    "fig = px.bar(df,\n",
    "             x='hospital', \n",
    "             y='total_providers',\n",
    "             color='hospital',\n",
    "             labels = {'total_providers' : 'Total Referring Providers',\n",
    "                       'hospital' : 'Hospital'},\n",
    "             color_discrete_map={\n",
    "                 \"HCA/TRISTAR\":\"#AA1E2D\",\n",
    "                 \"NASHVILLE GENERAL\":\"#FDE74C\",\n",
    "                 \"SAINT THOMAS\":\"#8FB8DE\",\n",
    "                 \"VUMC\":\"#9A94BC\"\n",
    "             },\n",
    "             template=\"simple_white\")\n",
    "\n",
    "fig.update_xaxes(title=None,\n",
    "                 tickangle = 45)\n",
    "\n",
    "fig.update_layout(showlegend=False)\n",
    "\n",
    "fig.update_layout(title_text=\"Referring Providers by Hospital\",\n",
    "                    title_xanchor=\"auto\",\n",
    "                    title_font_size=18,\n",
    "                    yaxis={'categoryorder':'category descending'}\n",
    "                   )\n",
    "\n",
    "\n",
    "fig.show()"
   ]
  },
  {
   "cell_type": "code",
   "execution_count": null,
   "id": "144a2433",
   "metadata": {},
   "outputs": [],
   "source": [
    "#fig.write_html(\"../data/visuals/hosp_providers.html\")"
   ]
  },
  {
   "cell_type": "code",
   "execution_count": null,
   "id": "f4e02e1e",
   "metadata": {
    "scrolled": true
   },
   "outputs": [],
   "source": [
    "# Plot of total referred patients by hospital\n",
    "df = hosp_summary_values_b.sort_values('total_patients')\n",
    "\n",
    "fig = px.bar(df,\n",
    "             x='hospital', \n",
    "             y='total_patients',\n",
    "             color='hospital',\n",
    "             labels = {'total_patients' : 'Total Patients Referred',\n",
    "                       'hospital' : 'Hospital'},\n",
    "             color_discrete_map={\n",
    "                 \"HCA/TRISTAR\":\"#AA1E2D\",\n",
    "                 \"NASHVILLE GENERAL\":\"#FDE74C\",\n",
    "                 \"SAINT THOMAS\":\"#8FB8DE\",\n",
    "                 \"VUMC\":\"#9A94BC\"\n",
    "             },\n",
    "             template=\"simple_white\")\n",
    "\n",
    "fig.update_xaxes(title=None,\n",
    "                 tickangle = 45)\n",
    "\n",
    "fig.update_layout(showlegend=False)\n",
    "\n",
    "fig.update_layout(title_text=\"Referred Patients by Hospital\",\n",
    "                    title_xanchor=\"auto\",\n",
    "                    title_font_size=18,\n",
    "                    yaxis={'categoryorder':'category descending'}\n",
    "                   )\n",
    "\n",
    "fig.show()"
   ]
  },
  {
   "cell_type": "code",
   "execution_count": null,
   "id": "6d0c3098",
   "metadata": {},
   "outputs": [],
   "source": [
    "#fig.write_html(\"../data/visuals/hosp_patients.html\")"
   ]
  },
  {
   "cell_type": "code",
   "execution_count": null,
   "id": "68037a47",
   "metadata": {
    "scrolled": false
   },
   "outputs": [],
   "source": [
    "# Plot of total overall average wait time by hospital\n",
    "df = hosp_summary_values_b.sort_values('avg_day_wait')\n",
    "\n",
    "fig = px.bar(df,\n",
    "             x='hospital', \n",
    "             y='avg_day_wait',\n",
    "             color='hospital',\n",
    "             labels = {'avg_day_wait' : 'Average Wait (days)',\n",
    "                       'hospital' : 'Hospital'},\n",
    "             color_discrete_map={\n",
    "                 \"HCA/TRISTAR\":\"#AA1E2D\",\n",
    "                 \"NASHVILLE GENERAL\":\"#FDE74C\",\n",
    "                 \"SAINT THOMAS\":\"#8FB8DE\",\n",
    "                 \"VUMC\":\"#9A94BC\"\n",
    "             },\n",
    "             template=\"simple_white\")\n",
    "\n",
    "fig.update_xaxes(title=None,\n",
    "                 tickangle = 45)\n",
    "\n",
    "fig.update_layout(showlegend=False)\n",
    "\n",
    "fig.update_layout(title_text=\"Average Wait by Hospital\",\n",
    "                    title_xanchor=\"auto\",\n",
    "                    title_font_size=18,\n",
    "                    yaxis={'categoryorder':'category descending'}\n",
    "                   )\n",
    "\n",
    "fig.show()"
   ]
  },
  {
   "cell_type": "code",
   "execution_count": null,
   "id": "ddf91202",
   "metadata": {},
   "outputs": [],
   "source": [
    "#fig.write_html(\"../data/visuals/hosp_wait.html\")"
   ]
  },
  {
   "cell_type": "code",
   "execution_count": null,
   "id": "8016740c",
   "metadata": {},
   "outputs": [],
   "source": [
    "# Aggregating by provider and hospital\n",
    "top_hosp_ref = (nash_hosp_referrers_b\n",
    "                .groupby(['from_npi',\n",
    "                         'first_name',\n",
    "                         'last_name',\n",
    "                         'credential',\n",
    "                         'location_address_state_name', \n",
    "                         'location_address_city_name', \n",
    "                         'specialty',\n",
    "                         'sub_specialty',\n",
    "                         'hospital'])\n",
    "                .agg(total_transactions = ('transaction_count', 'sum'),\n",
    "                     total_patients = ('patient_count', 'sum'),\n",
    "                     total_wait = ('total_wait', 'sum')\n",
    "                    )\n",
    "                .reset_index())\n",
    "\n",
    "top_hosp_ref"
   ]
  },
  {
   "cell_type": "code",
   "execution_count": null,
   "id": "a9f4d0be",
   "metadata": {
    "scrolled": true
   },
   "outputs": [],
   "source": [
    "\n",
    "top_hosp_ref['hosp_top_referrals'] = (top_hosp_ref\n",
    "                                      .groupby('hospital')['total_patients']\n",
    "                                      .rank(ascending = False)\n",
    ")\n",
    "\n",
    "top_hosp_ref"
   ]
  },
  {
   "cell_type": "code",
   "execution_count": null,
   "id": "dd6f0dd5",
   "metadata": {},
   "outputs": [],
   "source": [
    "top_hosp_ref['from_npi'] = top_hosp_ref['from_npi'].astype(str)"
   ]
  },
  {
   "cell_type": "code",
   "execution_count": null,
   "id": "2fd1f340",
   "metadata": {
    "scrolled": true
   },
   "outputs": [],
   "source": [
    "top_hosp_ref.loc[top_hosp_ref['hosp_top_referrals'] <= 5].sort_values(by= ['hospital', 'hosp_top_referrals'])\n"
   ]
  },
  {
   "cell_type": "code",
   "execution_count": null,
   "id": "a2f12ad8",
   "metadata": {
    "scrolled": false
   },
   "outputs": [],
   "source": [
    "df = (top_hosp_ref\n",
    "      .loc[top_hosp_ref['hosp_top_referrals'] <= 5]\n",
    "      .sort_values(by= ['hospital', 'hosp_top_referrals'])\n",
    "     )\n",
    "\n",
    "fig = px.bar(df,\n",
    "             x='from_npi', \n",
    "             y='total_patients',\n",
    "             color='hospital',\n",
    "             labels = {'total_patients' : 'Total Patients Referred',\n",
    "                       'hospital' : 'Hospital',\n",
    "                       'from_npi' : 'Provider NPI',\n",
    "                       'first_name' : 'Provider First Name',\n",
    "                       'last_name' : 'Provider Last Name',\n",
    "                       'credential' : 'Credential',\n",
    "                       'sub_specialty' : 'Sub-Specialty',\n",
    "                       'total_transactions' : 'Total Referral Transactions'},\n",
    "             color_discrete_map={\n",
    "                 \"HCA/TRISTAR\":\"#AA1E2D\",\n",
    "                 \"NASHVILLE GENERAL\":\"#FDE74C\",\n",
    "                 \"SAINT THOMAS\":\"#8FB8DE\",\n",
    "                 \"VUMC\":\"#9A94BC\"\n",
    "             },\n",
    "             hover_name = 'hospital',\n",
    "             hover_data={\n",
    "                 'hospital' : False,\n",
    "                 'first_name' : True,\n",
    "                 'last_name' : True,\n",
    "                 'credential' : True,\n",
    "                 'sub_specialty' : True,\n",
    "                 'total_transactions' : True\n",
    "             },\n",
    "             template=\"simple_white\")\n",
    "\n",
    "fig.update_xaxes(title=None,\n",
    "                 showticklabels=False)\n",
    "\n",
    "\n",
    "fig.show()"
   ]
  },
  {
   "cell_type": "code",
   "execution_count": null,
   "id": "f0ebe856",
   "metadata": {},
   "outputs": [],
   "source": [
    "serv_specialties = ['Anatomic Pathology & Clinical Pathology Physician', \n",
    "                    'Diagnostic Radiology Physician', \n",
    "                    'Emergency Medicine Physician']"
   ]
  },
  {
   "cell_type": "code",
   "execution_count": null,
   "id": "d4e37adf",
   "metadata": {},
   "outputs": [],
   "source": [
    "top_hosp_ref.loc[top_hosp_ref['sub_specialty'].isin(serv_specialties)]"
   ]
  },
  {
   "cell_type": "code",
   "execution_count": null,
   "id": "212bb461",
   "metadata": {},
   "outputs": [],
   "source": [
    "# Do a version of the above visual without service-based specialties\n",
    "top_hosp_ref['hosp_top_referrals_non_serv'] = (top_hosp_ref\n",
    "                                      .loc[~top_hosp_ref['sub_specialty'].isin(serv_specialties)]\n",
    "                                      .groupby('hospital')['total_patients']\n",
    "                                      .rank(ascending = False)\n",
    ")\n",
    "\n",
    "top_hosp_ref.loc[top_hosp_ref['hosp_top_referrals_non_serv'].isin([1, 2, 3, 4, 5])]"
   ]
  },
  {
   "cell_type": "code",
   "execution_count": null,
   "id": "8cd242d8",
   "metadata": {
    "scrolled": true
   },
   "outputs": [],
   "source": [
    "df = (top_hosp_ref\n",
    "      .loc[top_hosp_ref['hosp_top_referrals_non_serv'].isin([1, 2, 3, 4, 5])]\n",
    "      .sort_values(by= ['hospital', 'hosp_top_referrals_non_serv'])\n",
    "     )\n",
    "\n",
    "fig = px.bar(df,\n",
    "             x='from_npi', \n",
    "             y='total_patients',\n",
    "             color='hospital',\n",
    "             labels = {'total_patients' : 'Total Patients Referred',\n",
    "                       'hospital' : 'Hospital',\n",
    "                       'from_npi' : 'Provider NPI',\n",
    "                       'first_name' : 'Provider First Name',\n",
    "                       'last_name' : 'Provider Last Name',\n",
    "                       'credential' : 'Credential',\n",
    "                       'sub_specialty' : 'Sub-Specialty',\n",
    "                       'total_transactions' : 'Total Referral Transactions'},\n",
    "             color_discrete_map={\n",
    "                 \"HCA/TRISTAR\":\"#AA1E2D\",\n",
    "                 \"NASHVILLE GENERAL\":\"#FDE74C\",\n",
    "                 \"SAINT THOMAS\":\"#8FB8DE\",\n",
    "                 \"VUMC\":\"#9A94BC\"\n",
    "             },\n",
    "             hover_name = 'hospital',\n",
    "             hover_data={\n",
    "                 'hospital' : False,\n",
    "                 'first_name' : True,\n",
    "                 'last_name' : True,\n",
    "                 'credential' : True,\n",
    "                 'sub_specialty' : True,\n",
    "                 'total_transactions' : True\n",
    "             },\n",
    "             template=\"simple_white\")\n",
    "\n",
    "fig.update_xaxes(title=None,\n",
    "                 showticklabels=False)\n",
    "\n",
    "\n",
    "fig.show()"
   ]
  },
  {
   "cell_type": "code",
   "execution_count": null,
   "id": "b103b653",
   "metadata": {},
   "outputs": [],
   "source": [
    "#fig.write_html(\"../data/visuals/hosp_top_ref_non_serv.html\")"
   ]
  },
  {
   "cell_type": "code",
   "execution_count": null,
   "id": "7d330f77",
   "metadata": {},
   "outputs": [],
   "source": [
    "vandy_ref = nash_hosp_referrers_b.loc[nash_hosp_referrers_b['hospital'].str.contains(\"VUMC\")]['from_npi'].unique().tolist()\n",
    "vandy_ref"
   ]
  },
  {
   "cell_type": "code",
   "execution_count": null,
   "id": "d230dca1",
   "metadata": {
    "scrolled": true
   },
   "outputs": [],
   "source": [
    "(nash_hosp_referrers_b\n",
    "    .loc[(~nash_hosp_referrers_b['from_npi'].isin(vandy_ref))\n",
    "         &\n",
    "         (nash_hosp_referrers_b['location_address_state_name'] == 'TN')]\n",
    "    .groupby(['from_npi',\n",
    "                 'first_name',\n",
    "                 'last_name',\n",
    "                 'credential',\n",
    "                 'location_address_state_name', \n",
    "                 'location_address_city_name', \n",
    "                 'specialty',\n",
    "                 'sub_specialty'])\n",
    "    .agg(total_patients = ('patient_count', 'sum'),\n",
    "         total_transactions = ('transaction_count', 'sum'))\n",
    "    .reset_index()\n",
    "    .sort_values('total_patients', ascending = False)\n",
    "    .head(25)\n",
    ")    "
   ]
  },
  {
   "cell_type": "code",
   "execution_count": null,
   "id": "dcee66e7",
   "metadata": {},
   "outputs": [],
   "source": [
    "df = (\n",
    "    nash_hosp_referrers_b\n",
    "    .loc[(~nash_hosp_referrers_b['from_npi'].isin(vandy_ref))\n",
    "         &\n",
    "         (nash_hosp_referrers_b['location_address_state_name'] == 'TN')]\n",
    "    .groupby(['from_npi',\n",
    "                 'first_name',\n",
    "                 'last_name',\n",
    "                 'credential',\n",
    "                 'location_address_state_name', \n",
    "                 'location_address_city_name', \n",
    "                 'specialty',\n",
    "                 'sub_specialty'])\n",
    "    .agg(total_patients = ('patient_count', 'sum'),\n",
    "         total_transactions = ('transaction_count', 'sum'))\n",
    "    .reset_index()\n",
    "    .sort_values('total_patients', ascending = False)\n",
    "    .head(25)\n",
    ")\n",
    "\n",
    "\n",
    "df['from_npi'] = df['from_npi'].astype(str)\n",
    "fig = px.bar(df,\n",
    "             x='from_npi', \n",
    "             y='total_patients',\n",
    "             color='total_patients',\n",
    "             color_continuous_scale='Darkmint',\n",
    "             labels = {'total_patients' : 'Total Patients Referred',\n",
    "                       'from_npi' : 'Provider NPI',\n",
    "                       'first_name' : 'Provider First Name',\n",
    "                       'last_name' : 'Provider Last Name',\n",
    "                       'credential' : 'Credential',\n",
    "                       'sub_specialty' : 'Sub-Specialty',\n",
    "                       'total_transactions' : 'Total Referral Transactions'},\n",
    "             hover_data={\n",
    "                 'first_name' : True,\n",
    "                 'last_name' : True,\n",
    "                 'credential' : True,\n",
    "                 'sub_specialty' : True,\n",
    "                 'total_transactions' : True\n",
    "             },\n",
    "             template=\"simple_white\")\n",
    "\n",
    "fig.update_xaxes(title=None,\n",
    "                 showticklabels=False)\n",
    "\n",
    "\n",
    "fig.show()"
   ]
  },
  {
   "cell_type": "code",
   "execution_count": null,
   "id": "5557e40f",
   "metadata": {},
   "outputs": [],
   "source": [
    "fig.write_html(\"../data/visuals/individual_no_vandy.html\")"
   ]
  },
  {
   "cell_type": "code",
   "execution_count": null,
   "id": "ff476dde",
   "metadata": {},
   "outputs": [],
   "source": [
    "(\n",
    "    nash_hosp_referrers_b\n",
    "    .loc[(~nash_hosp_referrers_b['from_npi'].isin(vandy_ref))\n",
    "         &\n",
    "         (nash_hosp_referrers_b['location_address_state_name'] == 'TN')\n",
    "         &\n",
    "         (~nash_hosp_referrers_b['sub_specialty'].isin(serv_specialties))]\n",
    "    .groupby(['from_npi',\n",
    "                 'first_name',\n",
    "                 'last_name',\n",
    "                 'credential',\n",
    "                 'location_address_state_name', \n",
    "                 'location_address_city_name', \n",
    "                 'specialty',\n",
    "                 'sub_specialty',\n",
    "             'hospital'])\n",
    "    .agg(total_patients = ('patient_count', 'sum'),\n",
    "         total_transactions = ('transaction_count', 'sum'))\n",
    "    .reset_index()\n",
    "    .sort_values('total_patients', ascending = False)\n",
    "    .head(25)\n",
    ")\n"
   ]
  },
  {
   "cell_type": "code",
   "execution_count": null,
   "id": "09432651",
   "metadata": {},
   "outputs": [],
   "source": [
    "df = (\n",
    "    nash_hosp_referrers_b\n",
    "    .loc[(~nash_hosp_referrers_b['from_npi'].isin(vandy_ref))\n",
    "         &\n",
    "         (nash_hosp_referrers_b['location_address_state_name'] == 'TN')\n",
    "         &\n",
    "         (~nash_hosp_referrers_b['sub_specialty'].isin(serv_specialties))]\n",
    "    .groupby(['from_npi',\n",
    "                 'first_name',\n",
    "                 'last_name',\n",
    "                 'credential',\n",
    "                 'location_address_state_name', \n",
    "                 'location_address_city_name', \n",
    "                 'specialty',\n",
    "                 'sub_specialty'])\n",
    "    .agg(total_patients = ('patient_count', 'sum'),\n",
    "         total_transactions = ('transaction_count', 'sum'))\n",
    "    .reset_index()\n",
    "    .sort_values('total_patients', ascending = False)\n",
    "    .head(25)\n",
    ")\n",
    "\n",
    "\n",
    "df['from_npi'] = df['from_npi'].astype(str)\n",
    "fig = px.bar(df,\n",
    "             x='from_npi', \n",
    "             y='total_patients',\n",
    "             color='total_patients',\n",
    "             color_continuous_scale='Darkmint',\n",
    "             labels = {'total_patients' : 'Total Patients Referred',\n",
    "                       'from_npi' : 'Provider NPI',\n",
    "                       'first_name' : 'Provider First Name',\n",
    "                       'last_name' : 'Provider Last Name',\n",
    "                       'credential' : 'Credential',\n",
    "                       'sub_specialty' : 'Sub-Specialty',\n",
    "                       'total_transactions' : 'Total Referral Transactions'},\n",
    "             hover_data={\n",
    "                 'first_name' : True,\n",
    "                 'last_name' : True,\n",
    "                 'credential' : True,\n",
    "                 'sub_specialty' : True,\n",
    "                 'total_transactions' : True\n",
    "             },\n",
    "             template=\"simple_white\")\n",
    "\n",
    "fig.update_xaxes(title=None,\n",
    "                 showticklabels=False)\n",
    "\n",
    "\n",
    "fig.show()"
   ]
  },
  {
   "cell_type": "code",
   "execution_count": null,
   "id": "38a448f9",
   "metadata": {},
   "outputs": [],
   "source": [
    "#fig.write_html(\"../data/visuals/individual_no_vandy_no_serv.html\")"
   ]
  },
  {
   "cell_type": "code",
   "execution_count": null,
   "id": "e6f5bc9b",
   "metadata": {},
   "outputs": [],
   "source": [
    "df = (\n",
    "    nash_hosp_referrers_b\n",
    "    .loc[(~nash_hosp_referrers_b['from_npi'].isin(vandy_ref))\n",
    "         &\n",
    "         (nash_hosp_referrers_b['location_address_state_name'] == 'TN')\n",
    "         &\n",
    "         (~nash_hosp_referrers_b['sub_specialty'].isin(serv_specialties))]\n",
    "    .groupby('sub_specialty')\n",
    "    .agg(total_patients = ('patient_count', 'sum'),\n",
    "         total_transactions = ('transaction_count', 'sum'))\n",
    "    .reset_index()\n",
    "    .sort_values('total_patients', ascending = False)\n",
    "    .head(25)\n",
    ")\n",
    "\n",
    "\n",
    "fig = px.bar(df,\n",
    "             x='sub_specialty', \n",
    "             y='total_patients',\n",
    "             color='total_patients',\n",
    "             color_continuous_scale='Bluyl',\n",
    "             labels = {'total_patients' : 'Total Patients',\n",
    "                       'sub_specialty' : 'Sub-Specialty',\n",
    "                       'total_transactions' : 'Total Referral Transactions'},\n",
    "             hover_data={\n",
    "                 'sub_specialty' : True,\n",
    "                 'total_transactions' : True\n",
    "             },\n",
    "             template=\"simple_white\")\n",
    "\n",
    "fig.update_xaxes(title=None,\n",
    "                 showticklabels=False)\n",
    "\n",
    "\n",
    "fig.show()"
   ]
  },
  {
   "cell_type": "code",
   "execution_count": null,
   "id": "fba9414e",
   "metadata": {},
   "outputs": [],
   "source": [
    "#fig.write_html(\"../data/visuals/specialty_no_vandy_no_serv.html\")"
   ]
  },
  {
   "cell_type": "code",
   "execution_count": null,
   "id": "afe3786b",
   "metadata": {},
   "outputs": [],
   "source": []
  }
 ],
 "metadata": {
  "kernelspec": {
   "display_name": "Python 3 (ipykernel)",
   "language": "python",
   "name": "python3"
  },
  "language_info": {
   "codemirror_mode": {
    "name": "ipython",
    "version": 3
   },
   "file_extension": ".py",
   "mimetype": "text/x-python",
   "name": "python",
   "nbconvert_exporter": "python",
   "pygments_lexer": "ipython3",
   "version": "3.9.12"
  }
 },
 "nbformat": 4,
 "nbformat_minor": 5
}
