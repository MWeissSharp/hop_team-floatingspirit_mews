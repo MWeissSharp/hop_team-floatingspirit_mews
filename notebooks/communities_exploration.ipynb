{
 "cells": [
  {
   "cell_type": "code",
   "execution_count": null,
   "id": "d6bc94b6",
   "metadata": {},
   "outputs": [],
   "source": [
    "import sqlite3\n",
    "import pandas as pd\n",
    "import numpy as np"
   ]
  },
  {
   "cell_type": "markdown",
   "id": "6d7d367b",
   "metadata": {},
   "source": [
    "Create a dataframe that includes only transactions between npi numbers that are both in the Nashville CBSA"
   ]
  },
  {
   "cell_type": "code",
   "execution_count": null,
   "id": "6db3eb5e",
   "metadata": {},
   "outputs": [],
   "source": [
    "query = \"\"\"\n",
    "SELECT from_npi,\n",
    "       to_npi,\n",
    "       transaction_count\n",
    "FROM hop\n",
    "INNER JOIN npidata AS a\n",
    "ON from_npi = a.npi\n",
    "INNER JOIN npidata AS b\n",
    "ON to_npi = b.npi\n",
    "INNER JOIN zip_to_cbsa AS az\n",
    "ON a.location_address_postal_code = az.zip\n",
    "INNER JOIN zip_to_cbsa AS bz\n",
    "ON b.location_address_postal_code = bz.zip\n",
    "WHERE transaction_count >= 50\n",
    "AND average_day_wait < 50\n",
    "AND az.cbsa = 34980\n",
    "AND bz.cbsa = 34980\n",
    "\"\"\"\n",
    "\n",
    "with sqlite3.connect('../data/hop_db.sqlite') as db: \n",
    "    hop_nash_cbsa = pd.read_sql(query, db)\n",
    "    \n",
    "db.close()"
   ]
  },
  {
   "cell_type": "code",
   "execution_count": null,
   "id": "6212a2da",
   "metadata": {},
   "outputs": [],
   "source": [
    "hop_nash_cbsa"
   ]
  }
 ],
 "metadata": {
  "kernelspec": {
   "display_name": "Python 3 (ipykernel)",
   "language": "python",
   "name": "python3"
  },
  "language_info": {
   "codemirror_mode": {
    "name": "ipython",
    "version": 3
   },
   "file_extension": ".py",
   "mimetype": "text/x-python",
   "name": "python",
   "nbconvert_exporter": "python",
   "pygments_lexer": "ipython3",
   "version": "3.9.12"
  }
 },
 "nbformat": 4,
 "nbformat_minor": 5
}
