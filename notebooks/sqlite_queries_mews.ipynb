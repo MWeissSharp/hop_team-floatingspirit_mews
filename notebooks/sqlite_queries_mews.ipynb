{
 "cells": [
  {
   "cell_type": "code",
   "execution_count": null,
   "id": "1853596a",
   "metadata": {},
   "outputs": [],
   "source": [
    "import sqlite3\n",
    "import pandas as pd\n",
    "import numpy as np"
   ]
  },
  {
   "cell_type": "markdown",
   "id": "26cdacd9",
   "metadata": {},
   "source": [
    "Build a profile of providers referring patients to the major hospitals in Nashville. Are certain specialties more likely to refer to a particular hospital over the others?"
   ]
  },
  {
   "cell_type": "code",
   "execution_count": null,
   "id": "abca8440",
   "metadata": {},
   "outputs": [],
   "source": [
    "query = \"\"\"\n",
    "SELECT npi, organization_name \n",
    "FROM npidata\n",
    "LEFT JOIN taxonomy\n",
    "USING(taxonomy_code)\n",
    "WHERE entity_type_code = 2\n",
    "AND location_address_city_name = 'NASHVILLE'\n",
    "AND classification = 'General Acute Care Hospital'\n",
    "\"\"\"\n",
    "\n",
    "with sqlite3.connect('../data/hop_db.sqlite') as db: \n",
    "    nash_hosp = pd.read_sql(query, db)\n",
    "    \n",
    "db.close()"
   ]
  },
  {
   "cell_type": "code",
   "execution_count": null,
   "id": "be669fc1",
   "metadata": {},
   "outputs": [],
   "source": [
    "nash_hosp['organization_name'].value_counts()"
   ]
  },
  {
   "cell_type": "code",
   "execution_count": null,
   "id": "0365293f",
   "metadata": {},
   "outputs": [],
   "source": [
    "query = \"\"\"\n",
    "WITH nash_hosp AS (\n",
    "    SELECT npi AS hosp_npi, organization_name AS hospital\n",
    "    FROM npidata\n",
    "    LEFT JOIN taxonomy\n",
    "    USING(taxonomy_code)\n",
    "    WHERE entity_type_code = 2\n",
    "    AND location_address_city_name = 'NASHVILLE'\n",
    "    AND classification = 'General Acute Care Hospital'\n",
    ")\n",
    "SELECT from_npi, display_name AS specialty, transaction_count, hospital\n",
    "FROM hop\n",
    "INNER JOIN npidata\n",
    "ON from_npi = npi\n",
    "INNER JOIN nash_hosp\n",
    "ON to_npi = hosp_npi\n",
    "LEFT JOIN taxonomy\n",
    "USING(taxonomy_code)\n",
    "WHERE transaction_count >= 50\n",
    "AND average_day_wait > 50\n",
    "\"\"\"\n",
    "\n",
    "with sqlite3.connect('../data/hop_db.sqlite') as db: \n",
    "    nash_hosp_referers = pd.read_sql(query, db)\n",
    "    \n",
    "db.close()"
   ]
  },
  {
   "cell_type": "code",
   "execution_count": null,
   "id": "613c8648",
   "metadata": {
    "scrolled": false
   },
   "outputs": [],
   "source": [
    "# create a df that indicates the number of referrals (transactions) made by practitioners of a given specialty to a given hospital\n",
    "referring_specialties = (\n",
    "    nash_hosp_referers\n",
    "    .groupby(['specialty', 'hospital'])['transaction_count']\n",
    "    .sum()\n",
    "    .to_frame()\n",
    "    .reset_index()\n",
    "    .sort_values(by = ['specialty', 'transaction_count'], ascending = [True, False])\n",
    ")\n",
    "\n",
    "# rank the hospitals based on number of referrals for each specialty, rank of 1 means most referrals\n",
    "referring_specialties['rank'] = (\n",
    "    referring_specialties\n",
    "    .groupby('specialty')['transaction_count']\n",
    "    .rank(ascending = False)\n",
    ")\n",
    "\n",
    "# create a column that creates a percent based comparison referrals within a given specialty\n",
    "# null values in this column indicate there is no hospital receiving fewer referrals\n",
    "# smaller values here indicate that a much smaller percentage of referrals are going to the hospital with the next higher rank\n",
    "referring_specialties['percent_for_next'] = (\n",
    "    round(100 * referring_specialties.groupby('specialty')['transaction_count'].shift(-1) \n",
    "          / \n",
    "          referring_specialties['transaction_count'], 2)\n",
    ")\n",
    "\n",
    "referring_specialties"
   ]
  },
  {
   "cell_type": "code",
   "execution_count": null,
   "id": "c2f68e73",
   "metadata": {
    "scrolled": false
   },
   "outputs": [],
   "source": [
    "# Quick look at how many times hospitals rank #1 for referrals from different specialties\n",
    "referring_specialties.loc[referring_specialties['rank'] == 1.0]['hospital'].value_counts()"
   ]
  },
  {
   "cell_type": "code",
   "execution_count": null,
   "id": "24a3612f",
   "metadata": {},
   "outputs": [],
   "source": [
    "# no looking for hospitals ranked #1 and sorting to see those that either have NO competition\n",
    "# meaning no other hospitals receive referrals from this specialty, or where there is a step drop in the number of \n",
    "# referrals to the #2 ranked hospital\n",
    "(\n",
    "    referring_specialties\n",
    "    .loc[referring_specialties['rank'] == 1.0]\n",
    "    .sort_values('percent_for_next', na_position = 'first')\n",
    "    .head(60)\n",
    ")"
   ]
  },
  {
   "cell_type": "code",
   "execution_count": null,
   "id": "ee377d2e",
   "metadata": {},
   "outputs": [],
   "source": []
  }
 ],
 "metadata": {
  "kernelspec": {
   "display_name": "Python 3 (ipykernel)",
   "language": "python",
   "name": "python3"
  },
  "language_info": {
   "codemirror_mode": {
    "name": "ipython",
    "version": 3
   },
   "file_extension": ".py",
   "mimetype": "text/x-python",
   "name": "python",
   "nbconvert_exporter": "python",
   "pygments_lexer": "ipython3",
   "version": "3.9.12"
  }
 },
 "nbformat": 4,
 "nbformat_minor": 5
}
