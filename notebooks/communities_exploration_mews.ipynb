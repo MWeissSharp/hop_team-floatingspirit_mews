{
 "cells": [
  {
   "cell_type": "code",
   "execution_count": null,
   "id": "d6bc94b6",
   "metadata": {},
   "outputs": [],
   "source": [
    "import pandas as pd\n",
    "import sqlite3\n",
    "\n",
    "import numpy as np\n",
    "import matplotlib.pyplot as plt\n",
    "import matplotlib.colors as colors\n",
    "import plotly.express as px\n",
    "import plotly.graph_objs as go\n",
    "import geopandas as gpd\n",
    "import pickle"
   ]
  },
  {
   "cell_type": "markdown",
   "id": "a7d175e3",
   "metadata": {},
   "source": [
    "Create a dataframe that includes only transactions between npi numbers that are both in the Nashville CBSA"
   ]
  },
  {
   "cell_type": "code",
   "execution_count": null,
   "id": "6db3eb5e",
   "metadata": {},
   "outputs": [],
   "source": [
    "query = \"\"\"\n",
    "SELECT from_npi,\n",
    "       to_npi,\n",
    "       transaction_count\n",
    "FROM hop\n",
    "INNER JOIN npidata AS a\n",
    "ON from_npi = a.npi\n",
    "INNER JOIN npidata AS b\n",
    "ON to_npi = b.npi\n",
    "INNER JOIN zip_to_cbsa AS az\n",
    "ON a.location_address_postal_code = az.zip\n",
    "INNER JOIN zip_to_cbsa AS bz\n",
    "ON b.location_address_postal_code = bz.zip\n",
    "WHERE transaction_count >= 50\n",
    "AND average_day_wait < 50\n",
    "AND az.cbsa = 34980\n",
    "AND bz.cbsa = 34980\n",
    "\"\"\"\n",
    "\n",
    "with sqlite3.connect('../data/hop_db.sqlite') as db: \n",
    "    hop_nash_cbsa = pd.read_sql(query, db)\n",
    "    \n",
    "db.close()\n",
    "\n",
    "# We uploaded this file to Neo4j to run the Louvain algorithm to identify communities"
   ]
  },
  {
   "cell_type": "code",
   "execution_count": null,
   "id": "f688ff4b",
   "metadata": {},
   "outputs": [],
   "source": [
    "#hop_nash_cbsa.to_csv('../data/hop_nash_cbsa.csv')"
   ]
  },
  {
   "cell_type": "code",
   "execution_count": null,
   "id": "f120f8e1",
   "metadata": {},
   "outputs": [],
   "source": [
    "# This is the csv containing community info\n",
    "community = pd.read_csv('../data/npi_community.csv')\n",
    "community.info()"
   ]
  },
  {
   "cell_type": "code",
   "execution_count": null,
   "id": "1a65a067",
   "metadata": {},
   "outputs": [],
   "source": [
    "# Creating a query to pull in info to merge with the community df\n",
    "query = \"\"\"\n",
    "SELECT npi, \n",
    "       first_name,\n",
    "       last_name,\n",
    "       credential, \n",
    "       organization_name,\n",
    "       location_address_city_name, \n",
    "       location_address_state_name, \n",
    "       location_address_postal_code, \n",
    "       classification AS specialty, \n",
    "       display_name AS sub_specialty,\n",
    "       cbsa\n",
    "FROM npidata\n",
    "LEFT JOIN taxonomy\n",
    "USING(taxonomy_code)\n",
    "INNER JOIN zip_to_cbsa \n",
    "ON location_address_postal_code = zip\n",
    "WHERE cbsa = 34980\n",
    "\"\"\"\n",
    "\n",
    "with sqlite3.connect('../data/hop_db.sqlite') as db: \n",
    "    nash_referrers = pd.read_sql(query, db)\n",
    "    \n",
    "db.close()"
   ]
  },
  {
   "cell_type": "code",
   "execution_count": null,
   "id": "fc835f9e",
   "metadata": {},
   "outputs": [],
   "source": [
    "nash_ref_com = pd.merge(community, nash_referrers, how = 'left', left_on = 'NPI', right_on = 'npi')"
   ]
  },
  {
   "cell_type": "code",
   "execution_count": null,
   "id": "f6ad3fe4",
   "metadata": {},
   "outputs": [],
   "source": [
    "nash_ref_com"
   ]
  },
  {
   "cell_type": "code",
   "execution_count": null,
   "id": "9189fff0",
   "metadata": {
    "scrolled": true
   },
   "outputs": [],
   "source": [
    "nash_ref_com['location_address_city_name'].value_counts()\n"
   ]
  },
  {
   "cell_type": "code",
   "execution_count": null,
   "id": "08c8b5da",
   "metadata": {},
   "outputs": [],
   "source": [
    "comm_zip_count = (\n",
    "    nash_ref_com\n",
    "    .groupby(['communityId', 'location_address_postal_code'])\n",
    "    .agg(num_providers = ('npi', 'count'),\n",
    "         num_cities = ('location_address_city_name', 'nunique'),\n",
    "         num_specialties = ('specialty', 'nunique'),\n",
    "         num_subspecialties = ('sub_specialty', 'nunique'),\n",
    "         num_orgs = ('organization_name', 'count'))\n",
    "    .reset_index()\n",
    "    .sort_values(by = ['communityId', 'num_providers'], ascending = [True, False])\n",
    ")\n",
    "\n",
    "comm_zip_count.info()"
   ]
  },
  {
   "cell_type": "code",
   "execution_count": null,
   "id": "36b464c8",
   "metadata": {},
   "outputs": [],
   "source": [
    "large_comm = (\n",
    "    nash_ref_com\n",
    "    .groupby('communityId')\n",
    "    ['npi'].count()\n",
    "    .sort_values(ascending = False)\n",
    "    .head(5)\n",
    "    .to_frame()\n",
    "    .reset_index()\n",
    ")\n",
    "large_comm['communityId'] = large_comm['communityId'].astype(str)\n",
    "large_comm"
   ]
  },
  {
   "cell_type": "code",
   "execution_count": null,
   "id": "9e5a932a",
   "metadata": {},
   "outputs": [],
   "source": [
    "comm_zip_count['rank'] = (\n",
    "    comm_zip_count\n",
    "    .groupby('communityId')\n",
    "    ['num_providers'].rank(ascending = False)\n",
    ")\n",
    "\n",
    "comm_zip_count['communityId'] = comm_zip_count['communityId'].astype(str)\n",
    "\n",
    "comm_zip_count"
   ]
  },
  {
   "cell_type": "code",
   "execution_count": null,
   "id": "6751dae9",
   "metadata": {},
   "outputs": [],
   "source": [
    "(\n",
    "    comm_zip_count.loc[comm_zip_count['communityId'].isin(large_comm['communityId'])]\n",
    ")"
   ]
  },
  {
   "cell_type": "code",
   "execution_count": null,
   "id": "a2ff13d4",
   "metadata": {},
   "outputs": [],
   "source": [
    "df = (\n",
    "    comm_zip_count\n",
    "    .loc[(comm_zip_count['rank'] < 4)\n",
    "         &\n",
    "         (comm_zip_count['communityId'].isin(large_comm['communityId']))]\n",
    "    .sort_values('location_address_postal_code')\n",
    ")\n",
    "\n",
    "fig = px.bar(df,\n",
    "             x='location_address_postal_code', \n",
    "             y='num_providers',\n",
    "             color='communityId',\n",
    "             labels = {\n",
    "                 'communityId' : 'Community',\n",
    "                 'location_address_postal_code' : 'Provider ZIP code', \n",
    "                 'num_providers' : 'Total Providers',\n",
    "                 'num_subspecialties' : 'Total Provider Sub-Specialties'},\n",
    "             color_discrete_sequence=px.colors.qualitative.Bold,\n",
    "             hover_data={'num_subspecialties' : True},\n",
    "             template=\"simple_white\")\n",
    "\n",
    "#fig.update_xaxes(title=None,\n",
    "#                 showticklabels=False)\n",
    "\n",
    "\n",
    "fig.show()"
   ]
  },
  {
   "cell_type": "code",
   "execution_count": null,
   "id": "980fb218",
   "metadata": {},
   "outputs": [],
   "source": [
    "# Number of communities that have providers in each zip code\n",
    "nash_ref_com.groupby('location_address_postal_code')['communityId'].nunique().sort_values(ascending = False).head(15)"
   ]
  },
  {
   "cell_type": "code",
   "execution_count": null,
   "id": "d3fd0c1c",
   "metadata": {
    "scrolled": true
   },
   "outputs": [],
   "source": [
    "# create a dataframe that gives overall demographic info for each community\n",
    "comm_dems = (\n",
    "    nash_ref_com\n",
    "    .groupby('communityId')\n",
    "    .agg(num_providers = ('npi', 'count'),\n",
    "         num_zip = ('location_address_postal_code', 'nunique'),\n",
    "         num_cities = ('location_address_city_name', 'nunique'),\n",
    "         num_specialties = ('specialty', 'nunique'),\n",
    "         num_subspecialties = ('sub_specialty', 'nunique'),\n",
    "         num_orgs = ('organization_name', 'count'))\n",
    "    .sort_values('num_providers', ascending = False)\n",
    ")\n",
    "\n",
    "comm_dems"
   ]
  },
  {
   "cell_type": "code",
   "execution_count": null,
   "id": "0af2372d",
   "metadata": {},
   "outputs": [],
   "source": [
    "# Looking at the largest community's demographics by zip code\n",
    "(\n",
    "    nash_ref_com\n",
    "    .loc[nash_ref_com['communityId'] == 3452]\n",
    "    .groupby('location_address_postal_code')\n",
    "    .agg(num_providers = ('npi', 'count'),\n",
    "         num_cities = ('location_address_city_name', 'nunique'),\n",
    "         num_specialties = ('specialty', 'nunique'),\n",
    "         num_subspecialties = ('sub_specialty', 'nunique'),\n",
    "         num_orgs = ('organization_name', 'count'))\n",
    "    .reset_index()\n",
    ")\n",
    "    "
   ]
  },
  {
   "cell_type": "code",
   "execution_count": null,
   "id": "3445fe4a",
   "metadata": {},
   "outputs": [],
   "source": []
  },
  {
   "cell_type": "code",
   "execution_count": null,
   "id": "432b6669",
   "metadata": {},
   "outputs": [],
   "source": []
  }
 ],
 "metadata": {
  "kernelspec": {
   "display_name": "Python 3 (ipykernel)",
   "language": "python",
   "name": "python3"
  },
  "language_info": {
   "codemirror_mode": {
    "name": "ipython",
    "version": 3
   },
   "file_extension": ".py",
   "mimetype": "text/x-python",
   "name": "python",
   "nbconvert_exporter": "python",
   "pygments_lexer": "ipython3",
   "version": "3.10.5"
  }
 },
 "nbformat": 4,
 "nbformat_minor": 5
}
