{
 "cells": [
  {
   "cell_type": "code",
   "execution_count": null,
   "id": "0626360d",
   "metadata": {},
   "outputs": [],
   "source": [
    "import pandas as pd\n",
    "import numpy as np\n",
    "import pickle\n",
    "\n",
    "import plotly.express as px\n",
    "from ipywidgets import interact, interactive, fixed, interact_manual\n",
    "import ipywidgets as widgets\n",
    "import plotly.graph_objects as go"
   ]
  },
  {
   "cell_type": "code",
   "execution_count": null,
   "id": "1e41902c",
   "metadata": {},
   "outputs": [],
   "source": [
    "with open('../data/nash_hosp_referrers_b.pickle', 'rb') as file:\n",
    "    nash_hosp_referrers_b = pickle.load(file)"
   ]
  },
  {
   "cell_type": "code",
   "execution_count": null,
   "id": "5d58c1d0",
   "metadata": {},
   "outputs": [],
   "source": [
    "nash_hosp_referrers_b['hospital'] = (\n",
    "    nash_hosp_referrers_b['hospital']\n",
    "    .str.replace('SETON CORPORATION', 'SAINT THOMAS')\n",
    "    .str.replace('SAINT THOMAS WEST HOSPITAL', 'SAINT THOMAS')\n",
    "    .str.replace('HCA HEALTH SERVICES OF TENNESSEE, INC.', 'HCA/TRISTAR')\n",
    "    .str.replace('HTI MEMORIAL HOSPITAL CORPORATION', 'HCA/TRISTAR')\n",
    "    .str.replace('NASHVILLE GENERAL HOSPITAL', 'NASHVILLE GENERAL')\n",
    "    .str.replace('VANDERBILT UNIVERSITY MEDICAL CENTER', 'VUMC')\n",
    ")\n",
    "\n",
    "#add a column that calculates the total wait in days for each providers' referrals\n",
    "nash_hosp_referrers_b['total_wait'] = (nash_hosp_referrers_b['transaction_count'] \n",
    "                                       * \n",
    "                                       nash_hosp_referrers_b['average_day_wait'])"
   ]
  },
  {
   "cell_type": "code",
   "execution_count": null,
   "id": "40591f65",
   "metadata": {},
   "outputs": [],
   "source": [
    "# Create interactive table that allows you to choose a hospital and view info about referrals by specialty\n",
    "@interact(Hospital = np.sort(nash_hosp_referrers_b['hospital'].unique()))\n",
    "def interactive_plot(Hospital):\n",
    "    \n",
    "    df = (nash_hosp_referrers_b\n",
    "          .loc[nash_hosp_referrers_b['hospital'] == Hospital]\n",
    "          .groupby('sub_specialty')\n",
    "          .agg(total_providers = ('from_npi', 'count'),\n",
    "               total_transactions = ('transaction_count', 'sum'),\n",
    "               total_patients = ('patient_count', 'sum'),\n",
    "               total_states = ('location_address_state_name', 'nunique'),\n",
    "               total_wait = ('total_wait', 'sum')\n",
    "               \n",
    "          )\n",
    "          .reset_index()\n",
    "          .sort_values('total_transactions', ascending = False))\n",
    "    \n",
    "    df['avg_day_wait'] = round(df['total_wait'] / df['total_transactions'], 2)\n",
    "    \n",
    "    fig = go.Figure(data=[go.Table(\n",
    "        header=dict(values= ['Referring Sub-Specialty',\n",
    "                             'Total Referring Providers',\n",
    "                             'Total Referral Transactions',\n",
    "                             'Total Patients Referred',\n",
    "                             'Average Wait (days)',\n",
    "                             'Total Referring States'],\n",
    "                    fill_color='#00618c',\n",
    "                    font_color= '#ffffff',\n",
    "                    align='left'),\n",
    "        cells=dict(values=[df.sub_specialty, \n",
    "                           df.total_providers,\n",
    "                           df.total_transactions,\n",
    "                           df.total_patients,\n",
    "                           df.avg_day_wait,\n",
    "                           df.total_states],\n",
    "                   fill_color='#daf7ff',\n",
    "                   align='left'))\n",
    "    ])\n",
    "\n",
    "    fig.write_html(\"../data/visuals/specialty_table.html\")\n",
    "    \n",
    "    fig.show()"
   ]
  },
  {
   "cell_type": "code",
   "execution_count": null,
   "id": "bc974c64",
   "metadata": {},
   "outputs": [],
   "source": []
  }
 ],
 "metadata": {
  "kernelspec": {
   "display_name": "Python 3 (ipykernel)",
   "language": "python",
   "name": "python3"
  },
  "language_info": {
   "codemirror_mode": {
    "name": "ipython",
    "version": 3
   },
   "file_extension": ".py",
   "mimetype": "text/x-python",
   "name": "python",
   "nbconvert_exporter": "python",
   "pygments_lexer": "ipython3",
   "version": "3.9.12"
  }
 },
 "nbformat": 4,
 "nbformat_minor": 5
}
